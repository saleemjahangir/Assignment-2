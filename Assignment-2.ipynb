{
 "cells": [
  {
   "cell_type": "markdown",
   "id": "d7f52aa2",
   "metadata": {},
   "source": [
    "# 0.1.1. Load from a txt file\n"
   ]
  },
  {
   "cell_type": "code",
   "execution_count": 6,
   "id": "ea014e18",
   "metadata": {},
   "outputs": [
    {
     "name": "stdout",
     "output_type": "stream",
     "text": [
      "[[  1.   2.   3.   4.   5.]\n",
      " [432. 411. 438. 442. 465.]\n",
      " [466. 475. 412. 428. 423.]\n",
      " [429. 407. 469. 477. 434.]\n",
      " [483. 474. 468. 485. 425.]\n",
      " [437. 470. 478. 495. 450.]\n",
      " [417. 471. 467. 477. 437.]\n",
      " [402. 414. 473. 436. 483.]\n",
      " [457. 433. 485. 415. 461.]\n",
      " [410. 471. 483. 474. 433.]\n",
      " [420. 403. 438. 485. 433.]\n",
      " [470. 487. 407. 408. 401.]\n",
      " [486. 432. 451. 405. 456.]\n",
      " [438. 484. 413. 445. 411.]\n",
      " [461. 475. 493. 474. 400.]\n",
      " [451. 416. 415. 412. 475.]\n",
      " [478. 499. 421. 401. 421.]\n",
      " [452. 481. 498. 450. 413.]\n",
      " [406. 426. 497. 403. 462.]\n",
      " [498. 412. 416. 431. 461.]\n",
      " [451. 445. 492. 472. 446.]\n",
      " [449. 491. 458. 461. 460.]\n",
      " [480. 420. 473. 445. 468.]\n",
      " [455. 425. 466. 463. 473.]\n",
      " [449. 414. 405. 460. 402.]\n",
      " [422. 441. 453. 461. 429.]\n",
      " [496. 443. 461. 470. 434.]\n",
      " [433. 466. 432. 492. 461.]\n",
      " [414. 485. 491. 467. 410.]\n",
      " [485. 470. 442. 483. 422.]\n",
      " [482. 419. 493. 418. 417.]]\n"
     ]
    }
   ],
   "source": [
    "#0.1.1\n",
    "#import the numpy libaray as np\n",
    "import numpy as np\n",
    "#Define the file path for the data file\n",
    "file_path=\"salaries.txt\"\n",
    "#load the file from the specified file using numpy's loadtxt function\n",
    "data_array=np.loadtxt(file_path,delimiter=',')\n",
    "#print the loaded data array\n",
    "print(data_array)"
   ]
  },
  {
   "cell_type": "markdown",
   "id": "45bc600d",
   "metadata": {},
   "source": [
    "# 0.1.2. Load from CSV file\n"
   ]
  },
  {
   "cell_type": "code",
   "execution_count": 7,
   "id": "59d697f1",
   "metadata": {},
   "outputs": [
    {
     "name": "stdout",
     "output_type": "stream",
     "text": [
      "[[  1.   2.   3.   4.   5.]\n",
      " [432. 411. 438. 442. 465.]\n",
      " [466. 475. 412. 428. 423.]\n",
      " [429. 407. 469. 477. 434.]\n",
      " [483. 474. 468. 485. 425.]\n",
      " [437. 470. 478. 495. 450.]\n",
      " [417. 471. 467. 477. 437.]\n",
      " [402. 414. 473. 436. 483.]\n",
      " [457. 433. 485. 415. 461.]\n",
      " [410. 471. 483. 474. 433.]\n",
      " [420. 403. 438. 485. 433.]\n",
      " [470. 487. 407. 408. 401.]\n",
      " [486. 432. 451. 405. 456.]\n",
      " [438. 484. 413. 445. 411.]\n",
      " [461. 475. 493. 474. 400.]\n",
      " [451. 416. 415. 412. 475.]\n",
      " [478. 499. 421. 401. 421.]\n",
      " [452. 481. 498. 450. 413.]\n",
      " [406. 426. 497. 403. 462.]\n",
      " [498. 412. 416. 431. 461.]\n",
      " [451. 445. 492. 472. 446.]\n",
      " [449. 491. 458. 461. 460.]\n",
      " [480. 420. 473. 445. 468.]\n",
      " [455. 425. 466. 463. 473.]\n",
      " [449. 414. 405. 460. 402.]\n",
      " [422. 441. 453. 461. 429.]\n",
      " [496. 443. 461. 470. 434.]\n",
      " [433. 466. 432. 492. 461.]\n",
      " [414. 485. 491. 467. 410.]\n",
      " [485. 470. 442. 483. 422.]\n",
      " [482. 419. 493. 418. 417.]]\n"
     ]
    }
   ],
   "source": [
    "# Import the NumPy library as np\n",
    "import numpy as np\n",
    "\n",
    "# Define the file path for the data file\n",
    "file_path = \"salaries.csv\"\n",
    "\n",
    "# Load the data from the specified file using NumPy's loadtxt function, assuming the data is comma-separated\n",
    "data_array = np.loadtxt(file_path, delimiter=',')\n",
    "\n",
    "# Print the loaded data array\n",
    "print(data_array)"
   ]
  },
  {
   "cell_type": "markdown",
   "id": "b614a79a",
   "metadata": {},
   "source": [
    "# 0.1.3. Make a list into an array\n"
   ]
  },
  {
   "cell_type": "code",
   "execution_count": 1,
   "id": "40a2697f",
   "metadata": {},
   "outputs": [
    {
     "name": "stdout",
     "output_type": "stream",
     "text": [
      "[1 2 3 4 5 6]\n"
     ]
    }
   ],
   "source": [
    "import numpy as np\n",
    "\n",
    "def list_to_array(input_list, dtype=float, order='C'):\n",
    "    \"\"\"\n",
    "    Convert a list to a NumPy array with specified data type and order.\n",
    "\n",
    "    Parameters:\n",
    "    - input_list: list\n",
    "        The input list to be converted to a NumPy array.\n",
    "    - dtype: data-type, optional\n",
    "        Desired data-type for the array (default is float).\n",
    "    - order: {'C', 'F'}, optional\n",
    "        Specify the order of the array ('C' for row-major, 'F' for column-major).\n",
    "\n",
    "    Returns:\n",
    "    - numpy.ndarray\n",
    "        NumPy array constructed from the input list.\n",
    "    \"\"\"\n",
    "    return np.array(input_list, dtype=dtype, order=order)\n",
    "\n",
    "my_list = [1, 2, 3, 4,5,6]\n",
    "result_array = list_to_array(my_list, dtype=int, order='C')\n",
    "print(result_array)"
   ]
  },
  {
   "cell_type": "markdown",
   "id": "cdcb700f",
   "metadata": {},
   "source": [
    "# 0.2.4. Matrix Operations\n",
    "\n"
   ]
  },
  {
   "cell_type": "code",
   "execution_count": 2,
   "id": "a64f8ea0",
   "metadata": {},
   "outputs": [
    {
     "name": "stdout",
     "output_type": "stream",
     "text": [
      "Symmetric: True\n",
      "Anti-symmetric: False\n",
      "Idempotent: False\n",
      "Hermitian: True\n",
      "Unitary: False\n"
     ]
    }
   ],
   "source": [
    "#0.2.4\n",
    "# Import NumPy library\n",
    "import numpy as np  \n",
    "\n",
    "\n",
    "# Check if the matrix is equal to its transpose\n",
    "def is_symmetric(matrix):\n",
    "    return np.allclose(matrix, matrix.T)\n",
    "\n",
    "# Check if the matrix is equal to the negative of its transpose\n",
    "def is_anti_symmetric(matrix):\n",
    "    return np.allclose(matrix, -matrix.T)\n",
    "\n",
    "# Check if the matrix squared is equal to the matrix itself\n",
    "def is_idempotent(matrix):\n",
    "    return np.allclose(np.dot(matrix, matrix), matrix)\n",
    "\n",
    "# Check if the matrix is equal to its conjugate transpose\n",
    "def is_hermitian(matrix):\n",
    "    return np.allclose(matrix, np.conj(matrix).T)\n",
    "\n",
    "# Check if the product of the matrix and its conjugate transpose is equal to the identity matrix\n",
    "def is_unitary(matrix):\n",
    "    product = np.dot(matrix, np.conj(matrix).T)\n",
    "    return np.allclose(product, np.eye(matrix.shape[0]))\n",
    "\n",
    "matrix = np.array([[1, 2, 3], [2, 4, 5], [3, 5, 6]])  # Replace with your matrix\n",
    "\n",
    "# Print whether the matrix has each specified property as in ture and false\n",
    "print(f\"Symmetric: {is_symmetric(matrix)}\")\n",
    "print(f\"Anti-symmetric: {is_anti_symmetric(matrix)}\")\n",
    "print(f\"Idempotent: {is_idempotent(matrix)}\")\n",
    "print(f\"Hermitian: {is_hermitian(matrix)}\")\n",
    "print(f\"Unitary: {is_unitary(matrix)}\")"
   ]
  },
  {
   "cell_type": "markdown",
   "id": "6be00b27",
   "metadata": {},
   "source": [
    "# 0.2.1. Making Block diagonal arrays\n"
   ]
  },
  {
   "cell_type": "code",
   "execution_count": 3,
   "id": "02236ab8",
   "metadata": {},
   "outputs": [
    {
     "name": "stdout",
     "output_type": "stream",
     "text": [
      "[[0.59694939 0.25212988 0.82988348 0.         0.         0.\n",
      "  0.         0.         0.        ]\n",
      " [0.62206692 0.68963409 0.60909832 0.         0.         0.\n",
      "  0.         0.         0.        ]\n",
      " [0.90325982 0.18232347 0.63353475 0.         0.         0.\n",
      "  0.         0.         0.        ]\n",
      " [0.         0.         0.         0.20436912 0.40014679 0.30533279\n",
      "  0.         0.         0.        ]\n",
      " [0.         0.         0.         0.75059074 0.94907197 0.13985356\n",
      "  0.         0.         0.        ]\n",
      " [0.         0.         0.         0.72126472 0.37092685 0.67828689\n",
      "  0.         0.         0.        ]\n",
      " [0.         0.         0.         0.         0.         0.\n",
      "  0.0777307  0.34379008 0.49346809]\n",
      " [0.         0.         0.         0.         0.         0.\n",
      "  0.07937365 0.7727087  0.05640044]\n",
      " [0.         0.         0.         0.         0.         0.\n",
      "  0.84896102 0.63201084 0.124752  ]]\n"
     ]
    }
   ],
   "source": [
    "#0.2.1\n",
    "import numpy as np\n",
    "\n",
    "# Generate three random 3x3 matrices\n",
    "matrix1 = np.random.rand(3, 3)\n",
    "matrix2 = np.random.rand(3, 3)\n",
    "matrix3 = np.random.rand(3, 3)\n",
    "\n",
    "# Create a block diagonal matrix\n",
    "block_diagonal_matrix = np.block([[matrix1, np.zeros((3, 3)), np.zeros((3, 3))],\n",
    "                                  [np.zeros((3, 3)), matrix2, np.zeros((3, 3))],\n",
    "                                  [np.zeros((3, 3)), np.zeros((3, 3)), matrix3]])\n",
    "#print the block_diagonal_matrix\n",
    "print(block_diagonal_matrix)"
   ]
  },
  {
   "cell_type": "markdown",
   "id": "c35ee3c3",
   "metadata": {},
   "source": [
    "# 0.2.2. Off diagonal block matrix\n"
   ]
  },
  {
   "cell_type": "code",
   "execution_count": 2,
   "id": "9689d5ba",
   "metadata": {},
   "outputs": [
    {
     "name": "stdout",
     "output_type": "stream",
     "text": [
      "[[0.         0.         0.         0.         0.         0.\n",
      "  0.         0.         0.         0.         0.         0.        ]\n",
      " [0.         0.         0.         0.         0.         0.\n",
      "  0.         0.         0.         0.         0.         0.        ]\n",
      " [0.         0.         0.         0.         0.         0.\n",
      "  0.         0.         0.         0.         0.         0.        ]\n",
      " [0.         0.         0.         0.         0.         0.\n",
      "  0.         0.         0.         0.         0.         0.        ]\n",
      " [0.73139739 0.98366587 0.0032844  0.11303725 0.61784373 0.26465025\n",
      "  0.84974584 0.77958518 0.68079088 0.47893016 0.83165165 0.91825417]\n",
      " [0.51015498 0.91616014 0.58979797 0.70822871 0.72707814 0.30107723\n",
      "  0.45136209 0.97177674 0.90378337 0.84356888 0.32639253 0.34456806]\n",
      " [0.50844261 0.69671781 0.90561777 0.58371951 0.43478791 0.59630302\n",
      "  0.42736959 0.83099008 0.88805275 0.63485024 0.62069568 0.36645001]\n",
      " [0.08973756 0.33910256 0.02612046 0.95584448 0.11854589 0.19339513\n",
      "  0.88607887 0.23159575 0.54098848 0.1286951  0.89251192 0.27043782]]\n"
     ]
    }
   ],
   "source": [
    "#0.2.2\n",
    "\n",
    "import numpy as np\n",
    "\n",
    "#defined a function named random_matrix it  takes a parameter size\n",
    "def random_matrix(size):\n",
    "    return np.random.rand(size, size)\n",
    "\n",
    "# Number of blocks and size of each block\n",
    "num_blocks = 3\n",
    "block_size = 4\n",
    "\n",
    "# Create random matrices for off-diagonal blocks\n",
    "off_diag_blocks = [random_matrix(block_size) for _ in range(num_blocks)]\n",
    "\n",
    "# Construct the off-diagonal block matrix\n",
    "block_matrix = np.block([[np.zeros((block_size, block_size))] * num_blocks, off_diag_blocks])\n",
    "\n",
    "print(block_matrix)"
   ]
  },
  {
   "cell_type": "markdown",
   "id": "9186e654",
   "metadata": {},
   "source": [
    "# 0.2.5. Array Operations\n"
   ]
  },
  {
   "cell_type": "code",
   "execution_count": 3,
   "id": "0880b720",
   "metadata": {},
   "outputs": [
    {
     "name": "stdout",
     "output_type": "stream",
     "text": [
      "[[ 1  2  3]\n",
      " [ 4  5  6]\n",
      " [ 7  8  9]\n",
      " [10 11 12]]\n"
     ]
    }
   ],
   "source": [
    "#0.2.5\n",
    "import numpy as np\n",
    "\n",
    "# Assuming arr is your 1D array with length as a multiple of 3\n",
    "arr = np.array([1, 2, 3, 4, 5, 6, 7, 8, 9, 10, 11, 12])\n",
    "\n",
    "# Reshape the 1D array into a 2D array with 3 rows\n",
    "arr_2d = arr.reshape(-1, 3)\n",
    "\n",
    "print(arr_2d)"
   ]
  },
  {
   "cell_type": "markdown",
   "id": "a5ca5899",
   "metadata": {},
   "source": [
    "# 0.2.6. Avoiding element-wise comparison\n"
   ]
  },
  {
   "cell_type": "code",
   "execution_count": 4,
   "id": "83639a3e",
   "metadata": {},
   "outputs": [
    {
     "name": "stdout",
     "output_type": "stream",
     "text": [
      "True\n"
     ]
    }
   ],
   "source": [
    "#0.2.6\n",
    "import numpy as np\n",
    "\n",
    "# Assuming arr is your 1D array with length as a multiple of 3\n",
    "arr = np.array([1, 2, 3, 1, 5, 6, 1, 8, 9, 1, 11, 12])\n",
    "\n",
    "# Extract elements at positions 3n\n",
    "selected_elements = arr[::3]\n",
    "\n",
    "# Check if all elements are the same\n",
    "are_all_elements_same = np.all(selected_elements == selected_elements[0])\n",
    "#print the result\n",
    "print(are_all_elements_same)"
   ]
  },
  {
   "cell_type": "markdown",
   "id": "e347700f",
   "metadata": {},
   "source": [
    "# 0.3.2. Euler’s formula\n"
   ]
  },
  {
   "cell_type": "code",
   "execution_count": 5,
   "id": "49fd0927",
   "metadata": {},
   "outputs": [
    {
     "name": "stdout",
     "output_type": "stream",
     "text": [
      "[[0.70710678+0.70710678j]]\n"
     ]
    }
   ],
   "source": [
    "#0.3.2.\n",
    "import numpy as np\n",
    "\n",
    "# Step 1: Create a matrix representing theta (in radians)\n",
    "theta = np.pi / 4  # Example angle of pi/4 radians\n",
    "matrix = np.array([[theta]])\n",
    "\n",
    "# Step 2: Multiply the matrix by the imaginary unit i\n",
    "matrix_iota = 1j * matrix\n",
    "\n",
    "# Step 3: Take the matrix exponential\n",
    "result = np.exp(matrix_iota)\n",
    "\n",
    "print(result)"
   ]
  },
  {
   "cell_type": "markdown",
   "id": "a5fca37f",
   "metadata": {},
   "source": [
    "# 0.4.1. Array creation\n"
   ]
  },
  {
   "cell_type": "code",
   "execution_count": 4,
   "id": "b986c8f9",
   "metadata": {},
   "outputs": [
    {
     "name": "stdout",
     "output_type": "stream",
     "text": [
      "[[432. 411. 438. 442. 465.]\n",
      " [466. 475. 412. 428. 423.]\n",
      " [429. 407. 469. 477. 434.]\n",
      " [483. 474. 468. 485. 425.]\n",
      " [437. 470. 478. 495. 450.]\n",
      " [417. 471. 467. 477. 437.]\n",
      " [402. 414. 473. 436. 483.]\n",
      " [457. 433. 485. 415. 461.]\n",
      " [410. 471. 483. 474. 433.]\n",
      " [420. 403. 438. 485. 433.]\n",
      " [470. 487. 407. 408. 401.]\n",
      " [486. 432. 451. 405. 456.]\n",
      " [438. 484. 413. 445. 411.]\n",
      " [461. 475. 493. 474. 400.]\n",
      " [451. 416. 415. 412. 475.]\n",
      " [478. 499. 421. 401. 421.]\n",
      " [452. 481. 498. 450. 413.]\n",
      " [406. 426. 497. 403. 462.]\n",
      " [498. 412. 416. 431. 461.]\n",
      " [451. 445. 492. 472. 446.]\n",
      " [449. 491. 458. 461. 460.]\n",
      " [480. 420. 473. 445. 468.]\n",
      " [455. 425. 466. 463. 473.]\n",
      " [449. 414. 405. 460. 402.]\n",
      " [422. 441. 453. 461. 429.]\n",
      " [496. 443. 461. 470. 434.]\n",
      " [433. 466. 432. 492. 461.]\n",
      " [414. 485. 491. 467. 410.]\n",
      " [485. 470. 442. 483. 422.]\n",
      " [482. 419. 493. 418. 417.]]\n"
     ]
    }
   ],
   "source": [
    "#0.4.1\n",
    "import numpy as np\n",
    "#Defined a function named load_salaries_csv it takes a parameter \"file_path\"\n",
    "def load_salaries_csv(file_path): \n",
    "   # Load data from a CSV file into a NumPy array.\n",
    "    #NumPy array containing the data from the CSV file.\n",
    "    data_array = np.genfromtxt(file_path, delimiter=',', skip_header=1)\n",
    "    #it will return the data_array\n",
    "    return data_array\n",
    "#Define the file path for the data file\n",
    "file_path = 'salaries.csv'\n",
    "#call the function here\n",
    "salaries_data = load_salaries_csv(file_path)\n",
    "#it will print the data in aaray\n",
    "print(salaries_data)"
   ]
  },
  {
   "cell_type": "markdown",
   "id": "1ebb201d",
   "metadata": {},
   "source": [
    "# 0.4.4. Adding new rows\n"
   ]
  },
  {
   "cell_type": "code",
   "execution_count": 11,
   "id": "b70c8631",
   "metadata": {},
   "outputs": [
    {
     "name": "stdout",
     "output_type": "stream",
     "text": [
      "Updated Matrix:\n",
      "[[1 2 3]\n",
      " [4 5 6]\n",
      " [7 8 9]]\n"
     ]
    }
   ],
   "source": [
    "#0.4.4\n",
    "\n",
    "import numpy as np\n",
    "#Define a function named add_row it takes two paratmers \"matrix\" amd new_row\n",
    "def add_row(matrix, new_row):\n",
    "    \n",
    "   \n",
    "   # Updated matrix with the new row added\n",
    "    \n",
    "    return np.vstack([matrix, new_row])\n",
    "\n",
    "# Assuming 'existing_matrix' is your existing (i, n) shaped matrix\n",
    "# and 'new_row_data' is the data for the new row to be added\n",
    "existing_matrix = np.array([[1, 2, 3], [4, 5, 6]])\n",
    "new_row_data = np.array([7, 8, 9])\n",
    "\n",
    "# Adding a new row to the matrix\n",
    "updated_matrix = add_row(existing_matrix, new_row_data)\n",
    "\n",
    "# Print the updated matrix\n",
    "print(\"Updated Matrix:\")\n",
    "print(updated_matrix)"
   ]
  },
  {
   "cell_type": "markdown",
   "id": "43fcc44c",
   "metadata": {},
   "source": [
    "# 0.4.6. Statistics\n"
   ]
  },
  {
   "cell_type": "code",
   "execution_count": 8,
   "id": "ebd23fe8",
   "metadata": {},
   "outputs": [
    {
     "name": "stdout",
     "output_type": "stream",
     "text": [
      "Total Income of the people: 13509.0\n",
      "Mean Income per person: 450.3\n",
      "Standard Deviation of Income per person: 27.61056561052912\n",
      "Mean Income day wise: 6058767.25\n",
      "Standard Deviation of Income day wise: 84250.09082895698\n"
     ]
    }
   ],
   "source": [
    "#0.4.6\n",
    "import numpy as np\n",
    "\n",
    "# Load the data from the csv file\n",
    "data = np.genfromtxt('salaries.csv', delimiter=',', skip_header=1)\n",
    "\n",
    "# Calculate total income of the people\n",
    "total_income = np.sum(data[:, 0])\n",
    "\n",
    "# Calculate mean and standard deviation of the income of each person\n",
    "mean_income_per_person = np.mean(data[:, 0])\n",
    "std_dev_income_per_person = np.std(data[:, 0])\n",
    "\n",
    "# Calculate mean and standard deviation day wise\n",
    "mean_income_day_wise = np.mean(np.sum(data[:, 0].reshape(-1, 1) * data[:, 1:], axis=0))\n",
    "std_dev_income_day_wise = np.std(np.sum(data[:, 0].reshape(-1, 1) * data[:, 1:], axis=0))\n",
    "\n",
    "# Print the results..............\n",
    "print(\"Total Income of the people:\", total_income)\n",
    "print(\"Mean Income per person:\", mean_income_per_person)\n",
    "print(\"Standard Deviation of Income per person:\", std_dev_income_per_person)\n",
    "print(\"Mean Income day wise:\", mean_income_day_wise)\n",
    "print(\"Standard Deviation of Income day wise:\", std_dev_income_day_wise)"
   ]
  },
  {
   "cell_type": "markdown",
   "id": "1bac4b56",
   "metadata": {},
   "source": [
    "# 0.4.5. Adding new people\n"
   ]
  },
  {
   "cell_type": "code",
   "execution_count": 10,
   "id": "8edfc0af",
   "metadata": {},
   "outputs": [
    {
     "name": "stdout",
     "output_type": "stream",
     "text": [
      "Updated Data:\n",
      "[[432. 411. 438. 442. 465.   0.]\n",
      " [466. 475. 412. 428. 423.   0.]\n",
      " [429. 407. 469. 477. 434.   0.]\n",
      " [483. 474. 468. 485. 425.   0.]\n",
      " [437. 470. 478. 495. 450.   0.]\n",
      " [417. 471. 467. 477. 437.   0.]\n",
      " [402. 414. 473. 436. 483.   0.]\n",
      " [457. 433. 485. 415. 461.   0.]\n",
      " [410. 471. 483. 474. 433.   0.]\n",
      " [420. 403. 438. 485. 433.   0.]\n",
      " [470. 487. 407. 408. 401.   0.]\n",
      " [486. 432. 451. 405. 456.   0.]\n",
      " [438. 484. 413. 445. 411.   0.]\n",
      " [461. 475. 493. 474. 400.   0.]\n",
      " [451. 416. 415. 412. 475.   0.]\n",
      " [478. 499. 421. 401. 421.   0.]\n",
      " [452. 481. 498. 450. 413.   0.]\n",
      " [406. 426. 497. 403. 462.   0.]\n",
      " [498. 412. 416. 431. 461.   0.]\n",
      " [451. 445. 492. 472. 446.   0.]\n",
      " [449. 491. 458. 461. 460.   0.]\n",
      " [480. 420. 473. 445. 468.   0.]\n",
      " [455. 425. 466. 463. 473.   0.]\n",
      " [449. 414. 405. 460. 402.   0.]\n",
      " [422. 441. 453. 461. 429.   0.]\n",
      " [496. 443. 461. 470. 434.   0.]\n",
      " [433. 466. 432. 492. 461.   0.]\n",
      " [414. 485. 491. 467. 410.   0.]\n",
      " [485. 470. 442. 483. 422.   0.]\n",
      " [482. 419. 493. 418. 417.   0.]]\n"
     ]
    }
   ],
   "source": [
    "#0.4.5\n",
    "import numpy as np\n",
    "\n",
    "# Load the data from the CSV file\n",
    "data = np.genfromtxt('salaries.csv', delimiter=',', skip_header=1)\n",
    "\n",
    "# Assuming 'new_person_wage' is the wage of the new person before joining\n",
    "new_person_wage = 0\n",
    "\n",
    "# Create an array for the new person with initial wage recorded as 0\n",
    "new_person_data = np.full((data.shape[0], 1), new_person_wage)\n",
    "\n",
    "# Concatenate the new person data to the existing data array\n",
    "data = np.concatenate((data, new_person_data), axis=1)\n",
    "\n",
    "# Print the updated data\n",
    "print(\"Updated Data:\")\n",
    "print(data)"
   ]
  },
  {
   "cell_type": "markdown",
   "id": "abc8de95",
   "metadata": {},
   "source": [
    "# 0.3.2. Euler’s formula\n"
   ]
  },
  {
   "cell_type": "code",
   "execution_count": 2,
   "id": "5497dc9d",
   "metadata": {},
   "outputs": [
    {
     "name": "stdout",
     "output_type": "stream",
     "text": [
      "Matrix multiplied by i:\n",
      " [[0.+1.j 0.+2.j]\n",
      " [0.+3.j 0.+4.j]]\n",
      "\n",
      "Exponential of the matrix multiplied by i:\n",
      " [[ 0.54030231+0.84147098j -0.41614684+0.90929743j]\n",
      " [-0.9899925 +0.14112001j -0.65364362-0.7568025j ]]\n",
      "\n",
      "Cosine of the original matrix:\n",
      " [[ 0.54030231 -0.41614684]\n",
      " [-0.9899925  -0.65364362]]\n",
      "\n",
      "Sine of the original matrix:\n",
      " [[ 0.84147098  0.90929743]\n",
      " [ 0.14112001 -0.7568025 ]]\n",
      "\n",
      "Euler's formula validation: True\n"
     ]
    }
   ],
   "source": [
    "\n",
    "\n",
    "import numpy as np\n",
    "\n",
    "# Define a sample matrix A\n",
    "A = np.array([[1, 2], [3, 4]])\n",
    "\n",
    "# Multiply the matrix by iota (imaginary unit)\n",
    "A_iota = 1j * A\n",
    "\n",
    "# Exponential of the resulting matrix\n",
    "exp_A_iota = np.exp(A_iota)\n",
    "\n",
    "# Calculate sin and cos of the original matrix\n",
    "cos_A = np.cos(A)\n",
    "sin_A = np.sin(A)\n",
    "\n",
    "# Validate Euler's formula: e^(iA) = cos(A) + i * sin(A)\n",
    "euler_validation = np.allclose(exp_A_iota, cos_A + 1j * sin_A)\n",
    "\n",
    "# Print the all results\n",
    "print(\"Matrix multiplied by i:\\n\", A_iota)\n",
    "print(\"\\nExponential of the matrix multiplied by i:\\n\", exp_A_iota)\n",
    "print(\"\\nCosine of the original matrix:\\n\", cos_A)\n",
    "print(\"\\nSine of the original matrix:\\n\", sin_A)\n",
    "print(\"\\nEuler's formula validation:\", euler_validation)"
   ]
  },
  {
   "cell_type": "code",
   "execution_count": null,
   "id": "71e64129",
   "metadata": {},
   "outputs": [],
   "source": []
  }
 ],
 "metadata": {
  "kernelspec": {
   "display_name": "Python 3 (ipykernel)",
   "language": "python",
   "name": "python3"
  },
  "language_info": {
   "codemirror_mode": {
    "name": "ipython",
    "version": 3
   },
   "file_extension": ".py",
   "mimetype": "text/x-python",
   "name": "python",
   "nbconvert_exporter": "python",
   "pygments_lexer": "ipython3",
   "version": "3.11.5"
  }
 },
 "nbformat": 4,
 "nbformat_minor": 5
}
